{
 "cells": [
  {
   "cell_type": "code",
   "execution_count": 1,
   "metadata": {},
   "outputs": [
    {
     "name": "stderr",
     "output_type": "stream",
     "text": [
      "C:\\Users\\m20210118\\Anaconda2\\envs\\ransomware\\lib\\site-packages\\sklearn\\cross_validation.py:41: DeprecationWarning: This module was deprecated in version 0.18 in favor of the model_selection module into which all the refactored classes and functions are moved. Also note that the interface of the new CV iterators are different from that of this module. This module will be removed in 0.20.\n",
      "  \"This module will be removed in 0.20.\", DeprecationWarning)\n"
     ]
    }
   ],
   "source": [
    "import tensorflow as tf\n",
    "import pandas as pd\n",
    "import numpy as np\n",
    "\n",
    "from sklearn.model_selection import train_test_split\n",
    "from sklearn import cross_validation"
   ]
  },
  {
   "cell_type": "code",
   "execution_count": 2,
   "metadata": {},
   "outputs": [],
   "source": [
    "malData = pd.read_csv('malwaredata.csv', sep='|')"
   ]
  },
  {
   "cell_type": "code",
   "execution_count": 3,
   "metadata": {},
   "outputs": [
    {
     "data": {
      "text/html": [
       "<div>\n",
       "<style>\n",
       "    .dataframe thead tr:only-child th {\n",
       "        text-align: right;\n",
       "    }\n",
       "\n",
       "    .dataframe thead th {\n",
       "        text-align: left;\n",
       "    }\n",
       "\n",
       "    .dataframe tbody tr th {\n",
       "        vertical-align: top;\n",
       "    }\n",
       "</style>\n",
       "<table border=\"1\" class=\"dataframe\">\n",
       "  <thead>\n",
       "    <tr style=\"text-align: right;\">\n",
       "      <th></th>\n",
       "      <th>Name</th>\n",
       "      <th>md5</th>\n",
       "      <th>Machine</th>\n",
       "      <th>SizeOfOptionalHeader</th>\n",
       "      <th>Characteristics</th>\n",
       "      <th>MajorLinkerVersion</th>\n",
       "      <th>MinorLinkerVersion</th>\n",
       "      <th>SizeOfCode</th>\n",
       "      <th>SizeOfInitializedData</th>\n",
       "      <th>SizeOfUninitializedData</th>\n",
       "      <th>...</th>\n",
       "      <th>ResourcesNb</th>\n",
       "      <th>ResourcesMeanEntropy</th>\n",
       "      <th>ResourcesMinEntropy</th>\n",
       "      <th>ResourcesMaxEntropy</th>\n",
       "      <th>ResourcesMeanSize</th>\n",
       "      <th>ResourcesMinSize</th>\n",
       "      <th>ResourcesMaxSize</th>\n",
       "      <th>LoadConfigurationSize</th>\n",
       "      <th>VersionInformationSize</th>\n",
       "      <th>legitimate</th>\n",
       "    </tr>\n",
       "  </thead>\n",
       "  <tbody>\n",
       "    <tr>\n",
       "      <th>0</th>\n",
       "      <td>memtest.exe</td>\n",
       "      <td>631ea355665f28d4707448e442fbf5b8</td>\n",
       "      <td>332</td>\n",
       "      <td>224</td>\n",
       "      <td>258</td>\n",
       "      <td>9</td>\n",
       "      <td>0</td>\n",
       "      <td>361984</td>\n",
       "      <td>115712</td>\n",
       "      <td>0</td>\n",
       "      <td>...</td>\n",
       "      <td>4</td>\n",
       "      <td>3.262823</td>\n",
       "      <td>2.568844</td>\n",
       "      <td>3.537939</td>\n",
       "      <td>8797.000000</td>\n",
       "      <td>216</td>\n",
       "      <td>18032</td>\n",
       "      <td>0</td>\n",
       "      <td>16</td>\n",
       "      <td>1</td>\n",
       "    </tr>\n",
       "    <tr>\n",
       "      <th>1</th>\n",
       "      <td>ose.exe</td>\n",
       "      <td>9d10f99a6712e28f8acd5641e3a7ea6b</td>\n",
       "      <td>332</td>\n",
       "      <td>224</td>\n",
       "      <td>3330</td>\n",
       "      <td>9</td>\n",
       "      <td>0</td>\n",
       "      <td>130560</td>\n",
       "      <td>19968</td>\n",
       "      <td>0</td>\n",
       "      <td>...</td>\n",
       "      <td>2</td>\n",
       "      <td>4.250461</td>\n",
       "      <td>3.420744</td>\n",
       "      <td>5.080177</td>\n",
       "      <td>837.000000</td>\n",
       "      <td>518</td>\n",
       "      <td>1156</td>\n",
       "      <td>72</td>\n",
       "      <td>18</td>\n",
       "      <td>1</td>\n",
       "    </tr>\n",
       "    <tr>\n",
       "      <th>2</th>\n",
       "      <td>setup.exe</td>\n",
       "      <td>4d92f518527353c0db88a70fddcfd390</td>\n",
       "      <td>332</td>\n",
       "      <td>224</td>\n",
       "      <td>3330</td>\n",
       "      <td>9</td>\n",
       "      <td>0</td>\n",
       "      <td>517120</td>\n",
       "      <td>621568</td>\n",
       "      <td>0</td>\n",
       "      <td>...</td>\n",
       "      <td>11</td>\n",
       "      <td>4.426324</td>\n",
       "      <td>2.846449</td>\n",
       "      <td>5.271813</td>\n",
       "      <td>31102.272727</td>\n",
       "      <td>104</td>\n",
       "      <td>270376</td>\n",
       "      <td>72</td>\n",
       "      <td>18</td>\n",
       "      <td>1</td>\n",
       "    </tr>\n",
       "    <tr>\n",
       "      <th>3</th>\n",
       "      <td>DW20.EXE</td>\n",
       "      <td>a41e524f8d45f0074fd07805ff0c9b12</td>\n",
       "      <td>332</td>\n",
       "      <td>224</td>\n",
       "      <td>258</td>\n",
       "      <td>9</td>\n",
       "      <td>0</td>\n",
       "      <td>585728</td>\n",
       "      <td>369152</td>\n",
       "      <td>0</td>\n",
       "      <td>...</td>\n",
       "      <td>10</td>\n",
       "      <td>4.364291</td>\n",
       "      <td>2.669314</td>\n",
       "      <td>6.400720</td>\n",
       "      <td>1457.000000</td>\n",
       "      <td>90</td>\n",
       "      <td>4264</td>\n",
       "      <td>72</td>\n",
       "      <td>18</td>\n",
       "      <td>1</td>\n",
       "    </tr>\n",
       "    <tr>\n",
       "      <th>4</th>\n",
       "      <td>dwtrig20.exe</td>\n",
       "      <td>c87e561258f2f8650cef999bf643a731</td>\n",
       "      <td>332</td>\n",
       "      <td>224</td>\n",
       "      <td>258</td>\n",
       "      <td>9</td>\n",
       "      <td>0</td>\n",
       "      <td>294912</td>\n",
       "      <td>247296</td>\n",
       "      <td>0</td>\n",
       "      <td>...</td>\n",
       "      <td>2</td>\n",
       "      <td>4.306100</td>\n",
       "      <td>3.421598</td>\n",
       "      <td>5.190603</td>\n",
       "      <td>1074.500000</td>\n",
       "      <td>849</td>\n",
       "      <td>1300</td>\n",
       "      <td>72</td>\n",
       "      <td>18</td>\n",
       "      <td>1</td>\n",
       "    </tr>\n",
       "  </tbody>\n",
       "</table>\n",
       "<p>5 rows × 57 columns</p>\n",
       "</div>"
      ],
      "text/plain": [
       "           Name                               md5  Machine  \\\n",
       "0   memtest.exe  631ea355665f28d4707448e442fbf5b8      332   \n",
       "1       ose.exe  9d10f99a6712e28f8acd5641e3a7ea6b      332   \n",
       "2     setup.exe  4d92f518527353c0db88a70fddcfd390      332   \n",
       "3      DW20.EXE  a41e524f8d45f0074fd07805ff0c9b12      332   \n",
       "4  dwtrig20.exe  c87e561258f2f8650cef999bf643a731      332   \n",
       "\n",
       "   SizeOfOptionalHeader  Characteristics  MajorLinkerVersion  \\\n",
       "0                   224              258                   9   \n",
       "1                   224             3330                   9   \n",
       "2                   224             3330                   9   \n",
       "3                   224              258                   9   \n",
       "4                   224              258                   9   \n",
       "\n",
       "   MinorLinkerVersion  SizeOfCode  SizeOfInitializedData  \\\n",
       "0                   0      361984                 115712   \n",
       "1                   0      130560                  19968   \n",
       "2                   0      517120                 621568   \n",
       "3                   0      585728                 369152   \n",
       "4                   0      294912                 247296   \n",
       "\n",
       "   SizeOfUninitializedData     ...      ResourcesNb  ResourcesMeanEntropy  \\\n",
       "0                        0     ...                4              3.262823   \n",
       "1                        0     ...                2              4.250461   \n",
       "2                        0     ...               11              4.426324   \n",
       "3                        0     ...               10              4.364291   \n",
       "4                        0     ...                2              4.306100   \n",
       "\n",
       "   ResourcesMinEntropy  ResourcesMaxEntropy  ResourcesMeanSize  \\\n",
       "0             2.568844             3.537939        8797.000000   \n",
       "1             3.420744             5.080177         837.000000   \n",
       "2             2.846449             5.271813       31102.272727   \n",
       "3             2.669314             6.400720        1457.000000   \n",
       "4             3.421598             5.190603        1074.500000   \n",
       "\n",
       "   ResourcesMinSize  ResourcesMaxSize  LoadConfigurationSize  \\\n",
       "0               216             18032                      0   \n",
       "1               518              1156                     72   \n",
       "2               104            270376                     72   \n",
       "3                90              4264                     72   \n",
       "4               849              1300                     72   \n",
       "\n",
       "   VersionInformationSize  legitimate  \n",
       "0                      16           1  \n",
       "1                      18           1  \n",
       "2                      18           1  \n",
       "3                      18           1  \n",
       "4                      18           1  \n",
       "\n",
       "[5 rows x 57 columns]"
      ]
     },
     "execution_count": 3,
     "metadata": {},
     "output_type": "execute_result"
    }
   ],
   "source": [
    "malData.head()"
   ]
  },
  {
   "cell_type": "code",
   "execution_count": 4,
   "metadata": {},
   "outputs": [
    {
     "data": {
      "text/plain": [
       "Index(['Name', 'md5', 'Machine', 'SizeOfOptionalHeader', 'Characteristics',\n",
       "       'MajorLinkerVersion', 'MinorLinkerVersion', 'SizeOfCode',\n",
       "       'SizeOfInitializedData', 'SizeOfUninitializedData',\n",
       "       'AddressOfEntryPoint', 'BaseOfCode', 'BaseOfData', 'ImageBase',\n",
       "       'SectionAlignment', 'FileAlignment', 'MajorOperatingSystemVersion',\n",
       "       'MinorOperatingSystemVersion', 'MajorImageVersion', 'MinorImageVersion',\n",
       "       'MajorSubsystemVersion', 'MinorSubsystemVersion', 'SizeOfImage',\n",
       "       'SizeOfHeaders', 'CheckSum', 'Subsystem', 'DllCharacteristics',\n",
       "       'SizeOfStackReserve', 'SizeOfStackCommit', 'SizeOfHeapReserve',\n",
       "       'SizeOfHeapCommit', 'LoaderFlags', 'NumberOfRvaAndSizes', 'SectionsNb',\n",
       "       'SectionsMeanEntropy', 'SectionsMinEntropy', 'SectionsMaxEntropy',\n",
       "       'SectionsMeanRawsize', 'SectionsMinRawsize', 'SectionMaxRawsize',\n",
       "       'SectionsMeanVirtualsize', 'SectionsMinVirtualsize',\n",
       "       'SectionMaxVirtualsize', 'ImportsNbDLL', 'ImportsNb',\n",
       "       'ImportsNbOrdinal', 'ExportNb', 'ResourcesNb', 'ResourcesMeanEntropy',\n",
       "       'ResourcesMinEntropy', 'ResourcesMaxEntropy', 'ResourcesMeanSize',\n",
       "       'ResourcesMinSize', 'ResourcesMaxSize', 'LoadConfigurationSize',\n",
       "       'VersionInformationSize', 'legitimate'],\n",
       "      dtype='object')"
      ]
     },
     "execution_count": 4,
     "metadata": {},
     "output_type": "execute_result"
    }
   ],
   "source": [
    "malData.columns"
   ]
  },
  {
   "cell_type": "code",
   "execution_count": 5,
   "metadata": {},
   "outputs": [],
   "source": [
    "cols_to_norm = ['Machine', 'SizeOfOptionalHeader', 'Characteristics',\n",
    "       'MajorLinkerVersion', 'MinorLinkerVersion', 'SizeOfCode',\n",
    "       'SizeOfInitializedData', 'SizeOfUninitializedData',\n",
    "       'AddressOfEntryPoint', 'BaseOfCode', 'BaseOfData', 'ImageBase',\n",
    "       'SectionAlignment', 'FileAlignment', 'MajorOperatingSystemVersion',\n",
    "       'MinorOperatingSystemVersion', 'MajorImageVersion', 'MinorImageVersion',\n",
    "       'MajorSubsystemVersion', 'MinorSubsystemVersion', 'SizeOfImage',\n",
    "       'SizeOfHeaders', 'CheckSum', 'Subsystem', 'DllCharacteristics',\n",
    "       'SizeOfStackReserve', 'SizeOfStackCommit', 'SizeOfHeapReserve',\n",
    "       'SizeOfHeapCommit', 'LoaderFlags', 'NumberOfRvaAndSizes', 'SectionsNb',\n",
    "       'SectionsMeanEntropy', 'SectionsMinEntropy', 'SectionsMaxEntropy',\n",
    "       'SectionsMeanRawsize', 'SectionsMinRawsize', 'SectionMaxRawsize',\n",
    "       'SectionsMeanVirtualsize', 'SectionsMinVirtualsize',\n",
    "       'SectionMaxVirtualsize', 'ImportsNbDLL', 'ImportsNb',\n",
    "       'ImportsNbOrdinal', 'ExportNb', 'ResourcesNb', 'ResourcesMeanEntropy',\n",
    "       'ResourcesMinEntropy', 'ResourcesMaxEntropy', 'ResourcesMeanSize',\n",
    "       'ResourcesMinSize', 'ResourcesMaxSize', 'LoadConfigurationSize',\n",
    "       'VersionInformationSize']"
   ]
  },
  {
   "cell_type": "code",
   "execution_count": 6,
   "metadata": {
    "collapsed": true
   },
   "outputs": [],
   "source": [
    "machine = tf.feature_column.numeric_column('Machine')\n",
    "sizeofoptionalheader = tf.feature_column.numeric_column('SizeOfOptionalHeader')\n",
    "characteristics = tf.feature_column.numeric_column('Characteristics')\n",
    "majorlinkerversion = tf.feature_column.numeric_column('MajorLinkerVersion')\n",
    "minorlinkerversion = tf.feature_column.numeric_column('MinorLinkerVersion')\n",
    "sizeofcode = tf.feature_column.numeric_column('SizeOfCode')\n",
    "sizeofinitializeddata = tf.feature_column.numeric_column('SizeOfInitializedData')\n",
    "sizeofuninitializeddata = tf.feature_column.numeric_column('SizeOfUninitializedData')\n",
    "addressofentrypoint = tf.feature_column.numeric_column('AddressOfEntryPoint')\n",
    "baseofcode = tf.feature_column.numeric_column('BaseOfCode')\n",
    "baseofdata = tf.feature_column.numeric_column('BaseOfData')\n",
    "imagebase = tf.feature_column.numeric_column('ImageBase')\n",
    "sectionalignment = tf.feature_column.numeric_column('SectionAlignment')\n",
    "filealignment = tf.feature_column.numeric_column('FileAlignment')\n",
    "majoroperatingsystemversion = tf.feature_column.numeric_column('MajorOperatingSystemVersion')\n",
    "minoroperatingsystemversion = tf.feature_column.numeric_column('MinorOperatingSystemVersion')\n",
    "majorimageversion = tf.feature_column.numeric_column('MajorImageVersion')\n",
    "minorimageversion = tf.feature_column.numeric_column('MinorImageVersion')\n",
    "majorsubsystemversion = tf.feature_column.numeric_column('MajorSubsystemVersion')\n",
    "minorsubsystemversion = tf.feature_column.numeric_column('MinorSubsystemVersion')\n",
    "sizeofimage = tf.feature_column.numeric_column('SizeOfImage')\n",
    "sizeofheaders = tf.feature_column.numeric_column('SizeOfHeaders')\n",
    "checksum = tf.feature_column.numeric_column('CheckSum')\n",
    "subsystem = tf.feature_column.numeric_column('Subsystem')\n",
    "dllcharacteristics = tf.feature_column.numeric_column('DllCharacteristics')\n",
    "sizeofstackreserve = tf.feature_column.numeric_column('SizeOfStackReserve')\n",
    "sizeofstackcommit = tf.feature_column.numeric_column('SizeOfStackCommit')\n",
    "sizeofheapreserve = tf.feature_column.numeric_column('SizeOfHeapReserve')\n",
    "sizeofheapcommit = tf.feature_column.numeric_column('SizeOfHeapCommit')\n",
    "loaderflags = tf.feature_column.numeric_column('LoaderFlags')\n",
    "numberofrvaandsizes = tf.feature_column.numeric_column('NumberOfRvaAndSizes')\n",
    "sectionsnb = tf.feature_column.numeric_column('SectionsNb')\n",
    "sectionsmeanentropy = tf.feature_column.numeric_column('SectionsMeanEntropy')\n",
    "sectionsminentropy = tf.feature_column.numeric_column('SectionsMinEntropy')\n",
    "sectionsmaxentropy = tf.feature_column.numeric_column('SectionsMaxEntropy')\n",
    "sectionsmeanrawsize = tf.feature_column.numeric_column('SectionsMeanRawsize')\n",
    "sectionsminrawsize = tf.feature_column.numeric_column('SectionsMinRawsize')\n",
    "sectionmaxrawsize = tf.feature_column.numeric_column('SectionMaxRawsize')\n",
    "sectionsmeanvirtualsize = tf.feature_column.numeric_column('SectionsMeanVirtualsize')\n",
    "sectionsminvirtualsize = tf.feature_column.numeric_column('SectionsMinVirtualsize')\n",
    "sectionmaxvirtualsize = tf.feature_column.numeric_column('SectionMaxVirtualsize')\n",
    "importsnbdll = tf.feature_column.numeric_column('ImportsNbDLL')\n",
    "importsnb = tf.feature_column.numeric_column('ImportsNb')\n",
    "importsnbordinal = tf.feature_column.numeric_column('ImportsNbOrdinal')\n",
    "exportnb = tf.feature_column.numeric_column('ExportNb')\n",
    "resourcesnb = tf.feature_column.numeric_column('ResourcesNb')\n",
    "resourcesmeanentropy = tf.feature_column.numeric_column('ResourcesMeanEntropy')\n",
    "resourcesminentropy = tf.feature_column.numeric_column('ResourcesMinEntropy')\n",
    "resourcesmaxentropy = tf.feature_column.numeric_column('ResourcesMaxEntropy')\n",
    "resourcesmeansize = tf.feature_column.numeric_column('ResourcesMeanSize')\n",
    "resourcesminsize = tf.feature_column.numeric_column('ResourcesMinSize')\n",
    "resourcesmaxsize = tf.feature_column.numeric_column('ResourcesMaxSize')\n",
    "loadconfigurationsize = tf.feature_column.numeric_column('LoadConfigurationSize')\n",
    "versioninformationsize = tf.feature_column.numeric_column('VersionInformationSize')"
   ]
  },
  {
   "cell_type": "code",
   "execution_count": 7,
   "metadata": {
    "collapsed": true
   },
   "outputs": [],
   "source": [
    "feat_cols = [machine,sizeofoptionalheader,characteristics,majorlinkerversion,minorlinkerversion,sizeofcode,sizeofinitializeddata,sizeofuninitializeddata,addressofentrypoint,baseofcode,baseofdata,imagebase,sectionalignment,filealignment,majoroperatingsystemversion,minoroperatingsystemversion,majorimageversion,minorimageversion,majorsubsystemversion,minorsubsystemversion,sizeofimage,sizeofheaders,checksum,subsystem,dllcharacteristics,sizeofstackreserve,sizeofstackcommit,sizeofheapreserve,sizeofheapcommit,loaderflags,numberofrvaandsizes,sectionsnb,sectionsmeanentropy,sectionsminentropy,sectionsmaxentropy,sectionsmeanrawsize,sectionsminrawsize,sectionmaxrawsize,sectionsmeanvirtualsize,sectionsminvirtualsize,sectionmaxvirtualsize,importsnbdll,importsnb,importsnbordinal,exportnb,resourcesnb,resourcesmeanentropy,resourcesminentropy,resourcesmaxentropy,resourcesmeansize,resourcesminsize,resourcesmaxsize,loadconfigurationsize,versioninformationsize]"
   ]
  },
  {
   "cell_type": "code",
   "execution_count": 8,
   "metadata": {
    "collapsed": true
   },
   "outputs": [],
   "source": [
    "import matplotlib.pyplot as plt\n",
    "%matplotlib inline"
   ]
  },
  {
   "cell_type": "code",
   "execution_count": 9,
   "metadata": {
    "collapsed": true
   },
   "outputs": [],
   "source": [
    "x_data = malData.drop(['Name','md5','legitimate'], axis=1)\n",
    "labels = malData['legitimate']"
   ]
  },
  {
   "cell_type": "code",
   "execution_count": 10,
   "metadata": {},
   "outputs": [],
   "source": [
    "X_train, X_test, y_train, y_test = train_test_split(x_data, labels, test_size = 0.2)"
   ]
  },
  {
   "cell_type": "code",
   "execution_count": 11,
   "metadata": {},
   "outputs": [],
   "source": [
    "input_func = tf.estimator.inputs.pandas_input_fn(x=X_train, y=y_train, batch_size=10,num_epochs=1000,shuffle=True)"
   ]
  },
  {
   "cell_type": "markdown",
   "metadata": {},
   "source": [
    "## TF Linear Classifier"
   ]
  },
  {
   "cell_type": "code",
   "execution_count": 12,
   "metadata": {},
   "outputs": [
    {
     "name": "stdout",
     "output_type": "stream",
     "text": [
      "INFO:tensorflow:Using default config.\n",
      "WARNING:tensorflow:Using temporary folder as model directory: C:\\Users\\M20210~1\\AppData\\Local\\Temp\\tmpcy47do9r\n",
      "INFO:tensorflow:Using config: {'_session_config': None, '_model_dir': 'C:\\\\Users\\\\M20210~1\\\\AppData\\\\Local\\\\Temp\\\\tmpcy47do9r', '_save_summary_steps': 100, '_keep_checkpoint_max': 5, '_log_step_count_steps': 100, '_save_checkpoints_steps': None, '_tf_random_seed': 1, '_save_checkpoints_secs': 600, '_keep_checkpoint_every_n_hours': 10000}\n"
     ]
    }
   ],
   "source": [
    "model = tf.estimator.LinearClassifier(feature_columns=feat_cols,n_classes=2)"
   ]
  },
  {
   "cell_type": "code",
   "execution_count": 13,
   "metadata": {},
   "outputs": [
    {
     "name": "stdout",
     "output_type": "stream",
     "text": [
      "INFO:tensorflow:Create CheckpointSaverHook.\n",
      "INFO:tensorflow:Saving checkpoints for 1 into C:\\Users\\M20210~1\\AppData\\Local\\Temp\\tmpcy47do9r\\model.ckpt.\n",
      "INFO:tensorflow:step = 1, loss = 6.93147\n",
      "INFO:tensorflow:global_step/sec: 154.585\n",
      "INFO:tensorflow:step = 101, loss = 150500.0 (0.661 sec)\n",
      "INFO:tensorflow:global_step/sec: 157.458\n",
      "INFO:tensorflow:step = 201, loss = 319559.0 (0.638 sec)\n",
      "INFO:tensorflow:global_step/sec: 160.572\n",
      "INFO:tensorflow:step = 301, loss = 0.0 (0.621 sec)\n",
      "INFO:tensorflow:global_step/sec: 158.203\n",
      "INFO:tensorflow:step = 401, loss = 0.0 (0.623 sec)\n",
      "INFO:tensorflow:global_step/sec: 160.306\n",
      "INFO:tensorflow:step = 501, loss = 0.0 (0.633 sec)\n",
      "INFO:tensorflow:global_step/sec: 150.619\n",
      "INFO:tensorflow:step = 601, loss = 0.0 (0.670 sec)\n",
      "INFO:tensorflow:global_step/sec: 138.178\n",
      "INFO:tensorflow:step = 701, loss = 0.0 (0.717 sec)\n",
      "INFO:tensorflow:global_step/sec: 90.2212\n",
      "INFO:tensorflow:step = 801, loss = 0.0 (1.124 sec)\n",
      "INFO:tensorflow:global_step/sec: 133.507\n",
      "INFO:tensorflow:step = 901, loss = 3228.97 (0.733 sec)\n",
      "INFO:tensorflow:Saving checkpoints for 1000 into C:\\Users\\M20210~1\\AppData\\Local\\Temp\\tmpcy47do9r\\model.ckpt.\n",
      "INFO:tensorflow:Loss for final step: 0.0.\n"
     ]
    },
    {
     "data": {
      "text/plain": [
       "<tensorflow.python.estimator.canned.linear.LinearClassifier at 0x1a50bfa5400>"
      ]
     },
     "execution_count": 13,
     "metadata": {},
     "output_type": "execute_result"
    }
   ],
   "source": [
    "model.train(input_fn=input_func,steps=1000)"
   ]
  },
  {
   "cell_type": "code",
   "execution_count": 14,
   "metadata": {
    "collapsed": true
   },
   "outputs": [],
   "source": [
    "eval_input_func = tf.estimator.inputs.pandas_input_fn(x=X_test,y=y_test,batch_size=10,num_epochs=1,shuffle=False)"
   ]
  },
  {
   "cell_type": "code",
   "execution_count": 15,
   "metadata": {},
   "outputs": [
    {
     "name": "stdout",
     "output_type": "stream",
     "text": [
      "WARNING:tensorflow:Casting <dtype: 'float32'> labels to bool.\n",
      "WARNING:tensorflow:Casting <dtype: 'float32'> labels to bool.\n",
      "INFO:tensorflow:Starting evaluation at 2022-04-17-11:12:36\n",
      "INFO:tensorflow:Restoring parameters from C:\\Users\\M20210~1\\AppData\\Local\\Temp\\tmpcy47do9r\\model.ckpt-1000\n",
      "INFO:tensorflow:Finished evaluation at 2022-04-17-11:12:56\n",
      "INFO:tensorflow:Saving dict for global step 1000: accuracy = 0.956827, accuracy_baseline = 0.699493, auc = 0.949375, auc_precision_recall = 0.938767, average_loss = 1.04853e+06, global_step = 1000, label/mean = 0.300507, loss = 1.04853e+07, prediction/mean = 0.302028\n"
     ]
    }
   ],
   "source": [
    "results = model.evaluate(eval_input_func)"
   ]
  },
  {
   "cell_type": "code",
   "execution_count": 16,
   "metadata": {},
   "outputs": [
    {
     "data": {
      "text/plain": [
       "{'accuracy': 0.95682722,\n",
       " 'accuracy_baseline': 0.69949293,\n",
       " 'auc': 0.94937533,\n",
       " 'auc_precision_recall': 0.93876702,\n",
       " 'average_loss': 1048531.6,\n",
       " 'global_step': 1000,\n",
       " 'label/mean': 0.30050707,\n",
       " 'loss': 10485316.0,\n",
       " 'prediction/mean': 0.30202824}"
      ]
     },
     "execution_count": 16,
     "metadata": {},
     "output_type": "execute_result"
    }
   ],
   "source": [
    "results"
   ]
  },
  {
   "cell_type": "code",
   "execution_count": 17,
   "metadata": {
    "collapsed": true
   },
   "outputs": [],
   "source": [
    "pred_input_func = tf.estimator.inputs.pandas_input_fn(x=X_test,batch_size=10,num_epochs=1,shuffle=False)"
   ]
  },
  {
   "cell_type": "code",
   "execution_count": null,
   "metadata": {
    "collapsed": true
   },
   "outputs": [],
   "source": [
    "predictions = model.predict(pred_input_func)"
   ]
  },
  {
   "cell_type": "code",
   "execution_count": null,
   "metadata": {},
   "outputs": [
    {
     "name": "stdout",
     "output_type": "stream",
     "text": [
      "INFO:tensorflow:Restoring parameters from C:\\Users\\M20210~1\\AppData\\Local\\Temp\\tmpcy47do9r\\model.ckpt-1000\n"
     ]
    }
   ],
   "source": [
    "my_pred = list(predictions)"
   ]
  },
  {
   "cell_type": "code",
   "execution_count": null,
   "metadata": {},
   "outputs": [],
   "source": [
    "my_pred"
   ]
  },
  {
   "cell_type": "code",
   "execution_count": null,
   "metadata": {
    "collapsed": true
   },
   "outputs": [],
   "source": []
  }
 ],
 "metadata": {
  "kernelspec": {
   "display_name": "Python 3",
   "language": "python",
   "name": "python3"
  },
  "language_info": {
   "codemirror_mode": {
    "name": "ipython",
    "version": 3
   },
   "file_extension": ".py",
   "mimetype": "text/x-python",
   "name": "python",
   "nbconvert_exporter": "python",
   "pygments_lexer": "ipython3",
   "version": "3.5.4"
  }
 },
 "nbformat": 4,
 "nbformat_minor": 2
}
